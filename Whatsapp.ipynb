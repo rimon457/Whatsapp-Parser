{
 "cells": [
  {
   "cell_type": "code",
   "execution_count": 60,
   "metadata": {
    "ExecuteTime": {
     "end_time": "2019-02-11T10:40:09.160518Z",
     "start_time": "2019-02-11T10:40:09.152518Z"
    }
   },
   "outputs": [],
   "source": [
    "import pandas as pd\n",
    "import numpy as np\n",
    "import matplotlib.pyplot as plt\n",
    "import re\n",
    "pd.set_option('max_colwidth',500)"
   ]
  },
  {
   "cell_type": "code",
   "execution_count": 61,
   "metadata": {
    "ExecuteTime": {
     "end_time": "2019-02-11T10:40:12.269829Z",
     "start_time": "2019-02-11T10:40:11.451748Z"
    }
   },
   "outputs": [],
   "source": [
    "file=open('your_chat.txt','r',encoding='utf-8')\n",
    "my=[]\n",
    "a=file.readlines()\n",
    "my_strng=[re.findall('(\\d+\\/+\\d+\\/+\\d+,)',line) for line in a]\n",
    "for line in a:\n",
    "    my_string=re.findall('(\\d+\\/+\\d+\\/+\\d+,)',line)\n",
    "    if len(my_string)==0:\n",
    "        c=[]\n",
    "        b=line.rstrip(\"\\n\")\n",
    "        d=my[-1].rstrip(\"\\n\")\n",
    "        c.append(d)\n",
    "        c.append(b)\n",
    "        my[-1]=(\". \".join(c)+\"\\n\")\n",
    "    else:\n",
    "        my.append(line)\n",
    "date_time,strings=[re.split(\"\\s+\\-+\\s\",thing)[0] for thing in my],[re.split(\"\\s+\\-+\\s\",thing)[1] for thing in my]\n",
    "new_str=[re.sub(\"\\u202a|\\u202c\",'',myst) for myst in strings]\n",
    "df=pd.DataFrame({'date_time':date_time,'strings':strings})\n",
    "df['date']=df.date_time.str.split(\",\",1,expand=True)[0]\n",
    "df['time']=df.date_time.str.split(\",\",1,expand=True)[1]\n",
    "df['sender']=df.strings.str.split(\": \",1,expand=True)[0]\n",
    "df['sender']=df.sender.str.replace(\" \",\"\")\n",
    "df['sender']=df.sender.str.strip().astype(str)\n",
    "df['text']=df.strings.str.split(\": \",1,expand=True)[1]\n",
    "df['text']=df.text.str.rstrip(\"\\n\")\n",
    "df.dropna(inplace=True)\n",
    "df.drop(['strings','date_time'],axis=1,inplace=True)\n",
    "indx=df[df.text==\"<Media omitted>\"].index\n",
    "indxs=df[df.text==\"This message was deleted\"].index\n",
    "df.drop(indx,inplace=True)\n",
    "df.drop(indxs,inplace=True)\n",
    "#df=df.set_index(['date','time'])"
   ]
  },
  {
   "cell_type": "code",
   "execution_count": null,
   "metadata": {},
   "outputs": [],
   "source": []
  }
 ],
 "metadata": {
  "kernelspec": {
   "display_name": "Python 3",
   "language": "python",
   "name": "python3"
  },
  "language_info": {
   "codemirror_mode": {
    "name": "ipython",
    "version": 3
   },
   "file_extension": ".py",
   "mimetype": "text/x-python",
   "name": "python",
   "nbconvert_exporter": "python",
   "pygments_lexer": "ipython3",
   "version": "3.7.0"
  }
 },
 "nbformat": 4,
 "nbformat_minor": 2
}
